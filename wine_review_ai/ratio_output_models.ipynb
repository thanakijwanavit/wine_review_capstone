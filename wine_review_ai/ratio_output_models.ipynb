{
 "cells": [
  {
   "cell_type": "markdown",
   "metadata": {},
   "source": [
    "# Data preprocess for model input"
   ]
  },
  {
   "cell_type": "code",
   "execution_count": 75,
   "metadata": {},
   "outputs": [],
   "source": [
    "import pandas as pd\n",
    "import numpy as np\n",
    "\n",
    "## encode functions\n",
    "##### main custom functions\n",
    "def one_hot_encode(df,columns_for_one_hot):\n",
    "    '''One hot encode the columns for feeding into the model\n",
    "    :df: Dataframe of the data\n",
    "    :columns_for_one_hot: array name of columns to input\n",
    "    :return: Dataframe of the one hot encoded data with prefix = columns_for_one_hot\n",
    "    '''\n",
    "#     for col_index in columns_for_one_hot:\n",
    "#         df[col_index]=df[col_index].replace(['0',0], 'No_{}'.format(col_index))\n",
    "    ## one hot encode\n",
    "    for column_for_one_hot in columns_for_one_hot:\n",
    "        #  Get one hot encoding of columns B\n",
    "        one_hot = pd.get_dummies(df[column_for_one_hot],prefix=column_for_one_hot)\n",
    "        # Drop column B as it is now encoded\n",
    "        df = df.drop(column_for_one_hot,axis = 1)\n",
    "        # Join the encoded df\n",
    "        df = df.join(one_hot,rsuffix=column_for_one_hot)\n",
    "    return df\n",
    "from sklearn.metrics import mean_absolute_error\n",
    "from sklearn.metrics import mean_squared_error\n",
    "from sklearn.metrics import median_absolute_error\n",
    "\n",
    "def evaluate(y_pred,Y_val,y_col):\n",
    "    print('ycol is:',y_col)\n",
    "    mse_sep=[round(mean_squared_error(Y_val[:,0], y_pred[:,0]),6),\n",
    "         round(mean_squared_error(Y_val[:,1], y_pred[:,1]),6)]\n",
    "    print('mean squared error is:', str(mse_sep))\n",
    "    mae_sep=[round(mean_absolute_error(Y_val[:,0], y_pred[:,0]),6),\n",
    "         round(mean_absolute_error(Y_val[:,1], y_pred[:,1]),6)]\n",
    "    print('mean absolute error is:', str(mae_sep))\n",
    "    mese_sep=[round(median_absolute_error(Y_val[:,0], y_pred[:,0]),6),\n",
    "         round(median_absolute_error(Y_val[:,1], y_pred[:,1]),6)]\n",
    "    print('median_absolute_error is:', str(mese_sep))"
   ]
  },
  {
   "cell_type": "code",
   "execution_count": 76,
   "metadata": {},
   "outputs": [
    {
     "data": {
      "text/html": [
       "<div>\n",
       "<style scoped>\n",
       "    .dataframe tbody tr th:only-of-type {\n",
       "        vertical-align: middle;\n",
       "    }\n",
       "\n",
       "    .dataframe tbody tr th {\n",
       "        vertical-align: top;\n",
       "    }\n",
       "\n",
       "    .dataframe thead th {\n",
       "        text-align: right;\n",
       "    }\n",
       "</style>\n",
       "<table border=\"1\" class=\"dataframe\">\n",
       "  <thead>\n",
       "    <tr style=\"text-align: right;\">\n",
       "      <th></th>\n",
       "      <th>points</th>\n",
       "      <th>price</th>\n",
       "      <th>year</th>\n",
       "      <th>temp1</th>\n",
       "      <th>temp10</th>\n",
       "      <th>temp11</th>\n",
       "      <th>temp12</th>\n",
       "      <th>temp13</th>\n",
       "      <th>temp14</th>\n",
       "      <th>temp15</th>\n",
       "      <th>...</th>\n",
       "      <th>area_Eastern France</th>\n",
       "      <th>area_Jura</th>\n",
       "      <th>area_Languedoc</th>\n",
       "      <th>area_Languedoc-Roussillon</th>\n",
       "      <th>area_Loire</th>\n",
       "      <th>area_Lyonnais</th>\n",
       "      <th>area_Provence</th>\n",
       "      <th>area_Rhône</th>\n",
       "      <th>area_Savoy</th>\n",
       "      <th>area_South West France</th>\n",
       "    </tr>\n",
       "  </thead>\n",
       "  <tbody>\n",
       "    <tr>\n",
       "      <th>0</th>\n",
       "      <td>87</td>\n",
       "      <td>0.0</td>\n",
       "      <td>2013</td>\n",
       "      <td>11.390</td>\n",
       "      <td>20.302</td>\n",
       "      <td>16.792</td>\n",
       "      <td>12.432</td>\n",
       "      <td>11.375</td>\n",
       "      <td>9.663</td>\n",
       "      <td>13.650</td>\n",
       "      <td>...</td>\n",
       "      <td>0</td>\n",
       "      <td>0</td>\n",
       "      <td>0</td>\n",
       "      <td>0</td>\n",
       "      <td>0</td>\n",
       "      <td>0</td>\n",
       "      <td>1</td>\n",
       "      <td>0</td>\n",
       "      <td>0</td>\n",
       "      <td>0</td>\n",
       "    </tr>\n",
       "    <tr>\n",
       "      <th>1</th>\n",
       "      <td>87</td>\n",
       "      <td>15.0</td>\n",
       "      <td>2011</td>\n",
       "      <td>4.690</td>\n",
       "      <td>12.437</td>\n",
       "      <td>7.362</td>\n",
       "      <td>4.967</td>\n",
       "      <td>5.142</td>\n",
       "      <td>6.502</td>\n",
       "      <td>8.337</td>\n",
       "      <td>...</td>\n",
       "      <td>0</td>\n",
       "      <td>0</td>\n",
       "      <td>0</td>\n",
       "      <td>0</td>\n",
       "      <td>1</td>\n",
       "      <td>0</td>\n",
       "      <td>0</td>\n",
       "      <td>0</td>\n",
       "      <td>0</td>\n",
       "      <td>0</td>\n",
       "    </tr>\n",
       "    <tr>\n",
       "      <th>2</th>\n",
       "      <td>87</td>\n",
       "      <td>14.0</td>\n",
       "      <td>2013</td>\n",
       "      <td>4.350</td>\n",
       "      <td>11.176</td>\n",
       "      <td>7.606</td>\n",
       "      <td>3.811</td>\n",
       "      <td>2.580</td>\n",
       "      <td>4.904</td>\n",
       "      <td>7.617</td>\n",
       "      <td>...</td>\n",
       "      <td>0</td>\n",
       "      <td>0</td>\n",
       "      <td>0</td>\n",
       "      <td>0</td>\n",
       "      <td>0</td>\n",
       "      <td>0</td>\n",
       "      <td>0</td>\n",
       "      <td>0</td>\n",
       "      <td>0</td>\n",
       "      <td>0</td>\n",
       "    </tr>\n",
       "    <tr>\n",
       "      <th>3</th>\n",
       "      <td>87</td>\n",
       "      <td>13.0</td>\n",
       "      <td>2013</td>\n",
       "      <td>-1.763</td>\n",
       "      <td>10.034</td>\n",
       "      <td>3.674</td>\n",
       "      <td>1.283</td>\n",
       "      <td>-2.770</td>\n",
       "      <td>-4.096</td>\n",
       "      <td>-0.363</td>\n",
       "      <td>...</td>\n",
       "      <td>0</td>\n",
       "      <td>0</td>\n",
       "      <td>0</td>\n",
       "      <td>0</td>\n",
       "      <td>0</td>\n",
       "      <td>0</td>\n",
       "      <td>0</td>\n",
       "      <td>0</td>\n",
       "      <td>0</td>\n",
       "      <td>0</td>\n",
       "    </tr>\n",
       "    <tr>\n",
       "      <th>4</th>\n",
       "      <td>87</td>\n",
       "      <td>65.0</td>\n",
       "      <td>2012</td>\n",
       "      <td>4.761</td>\n",
       "      <td>10.858</td>\n",
       "      <td>5.631</td>\n",
       "      <td>2.999</td>\n",
       "      <td>4.350</td>\n",
       "      <td>4.755</td>\n",
       "      <td>5.160</td>\n",
       "      <td>...</td>\n",
       "      <td>0</td>\n",
       "      <td>0</td>\n",
       "      <td>0</td>\n",
       "      <td>0</td>\n",
       "      <td>0</td>\n",
       "      <td>0</td>\n",
       "      <td>0</td>\n",
       "      <td>0</td>\n",
       "      <td>0</td>\n",
       "      <td>0</td>\n",
       "    </tr>\n",
       "  </tbody>\n",
       "</table>\n",
       "<p>5 rows × 2540 columns</p>\n",
       "</div>"
      ],
      "text/plain": [
       "   points  price  year   temp1  temp10  temp11  temp12  temp13  temp14  \\\n",
       "0      87    0.0  2013  11.390  20.302  16.792  12.432  11.375   9.663   \n",
       "1      87   15.0  2011   4.690  12.437   7.362   4.967   5.142   6.502   \n",
       "2      87   14.0  2013   4.350  11.176   7.606   3.811   2.580   4.904   \n",
       "3      87   13.0  2013  -1.763  10.034   3.674   1.283  -2.770  -4.096   \n",
       "4      87   65.0  2012   4.761  10.858   5.631   2.999   4.350   4.755   \n",
       "\n",
       "   temp15  ...  area_Eastern France  area_Jura  area_Languedoc  \\\n",
       "0  13.650  ...                    0          0               0   \n",
       "1   8.337  ...                    0          0               0   \n",
       "2   7.617  ...                    0          0               0   \n",
       "3  -0.363  ...                    0          0               0   \n",
       "4   5.160  ...                    0          0               0   \n",
       "\n",
       "   area_Languedoc-Roussillon  area_Loire  area_Lyonnais  area_Provence  \\\n",
       "0                          0           0              0              1   \n",
       "1                          0           1              0              0   \n",
       "2                          0           0              0              0   \n",
       "3                          0           0              0              0   \n",
       "4                          0           0              0              0   \n",
       "\n",
       "   area_Rhône  area_Savoy  area_South West France  \n",
       "0           0           0                       0  \n",
       "1           0           0                       0  \n",
       "2           0           0                       0  \n",
       "3           0           0                       0  \n",
       "4           0           0                       0  \n",
       "\n",
       "[5 rows x 2540 columns]"
      ]
     },
     "execution_count": 76,
     "metadata": {},
     "output_type": "execute_result"
    }
   ],
   "source": [
    "## read and encode data\n",
    "dfg = pd.read_csv(\n",
    "    './vintage_wine_description_processed.csv',index_col=0).fillna(0)\n",
    "to_encode=['country','province','region_1','region_2','variety','area']\n",
    "to_drop=['designation','description','title','Location_description','location','winery']\n",
    "dfg=dfg.drop(to_drop,axis=1)\n",
    "dfg=one_hot_encode(dfg,to_encode)\n",
    "dfg.head()"
   ]
  },
  {
   "cell_type": "code",
   "execution_count": 77,
   "metadata": {},
   "outputs": [
    {
     "data": {
      "text/html": [
       "<div>\n",
       "<style scoped>\n",
       "    .dataframe tbody tr th:only-of-type {\n",
       "        vertical-align: middle;\n",
       "    }\n",
       "\n",
       "    .dataframe tbody tr th {\n",
       "        vertical-align: top;\n",
       "    }\n",
       "\n",
       "    .dataframe thead th {\n",
       "        text-align: right;\n",
       "    }\n",
       "</style>\n",
       "<table border=\"1\" class=\"dataframe\">\n",
       "  <thead>\n",
       "    <tr style=\"text-align: right;\">\n",
       "      <th></th>\n",
       "      <th>points</th>\n",
       "      <th>price</th>\n",
       "      <th>year</th>\n",
       "      <th>latitude</th>\n",
       "      <th>longitude</th>\n",
       "    </tr>\n",
       "  </thead>\n",
       "  <tbody>\n",
       "    <tr>\n",
       "      <th>count</th>\n",
       "      <td>125345.000000</td>\n",
       "      <td>125345.000000</td>\n",
       "      <td>125345.000000</td>\n",
       "      <td>125345.000000</td>\n",
       "      <td>125345.000000</td>\n",
       "    </tr>\n",
       "    <tr>\n",
       "      <th>mean</th>\n",
       "      <td>88.485819</td>\n",
       "      <td>33.083857</td>\n",
       "      <td>2010.677578</td>\n",
       "      <td>31.656560</td>\n",
       "      <td>-45.865747</td>\n",
       "    </tr>\n",
       "    <tr>\n",
       "      <th>std</th>\n",
       "      <td>3.040517</td>\n",
       "      <td>40.774575</td>\n",
       "      <td>3.715205</td>\n",
       "      <td>23.260992</td>\n",
       "      <td>71.801828</td>\n",
       "    </tr>\n",
       "    <tr>\n",
       "      <th>min</th>\n",
       "      <td>80.000000</td>\n",
       "      <td>0.000000</td>\n",
       "      <td>1904.000000</td>\n",
       "      <td>-44.854979</td>\n",
       "      <td>-125.002441</td>\n",
       "    </tr>\n",
       "    <tr>\n",
       "      <th>25%</th>\n",
       "      <td>86.000000</td>\n",
       "      <td>15.000000</td>\n",
       "      <td>2009.000000</td>\n",
       "      <td>36.701463</td>\n",
       "      <td>-118.755997</td>\n",
       "    </tr>\n",
       "    <tr>\n",
       "      <th>50%</th>\n",
       "      <td>88.000000</td>\n",
       "      <td>25.000000</td>\n",
       "      <td>2011.000000</td>\n",
       "      <td>38.645311</td>\n",
       "      <td>-74.006015</td>\n",
       "    </tr>\n",
       "    <tr>\n",
       "      <th>75%</th>\n",
       "      <td>91.000000</td>\n",
       "      <td>40.000000</td>\n",
       "      <td>2013.000000</td>\n",
       "      <td>43.979280</td>\n",
       "      <td>6.158551</td>\n",
       "    </tr>\n",
       "    <tr>\n",
       "      <th>max</th>\n",
       "      <td>100.000000</td>\n",
       "      <td>3300.000000</td>\n",
       "      <td>2017.000000</td>\n",
       "      <td>57.151067</td>\n",
       "      <td>178.020649</td>\n",
       "    </tr>\n",
       "  </tbody>\n",
       "</table>\n",
       "</div>"
      ],
      "text/plain": [
       "              points          price           year       latitude  \\\n",
       "count  125345.000000  125345.000000  125345.000000  125345.000000   \n",
       "mean       88.485819      33.083857    2010.677578      31.656560   \n",
       "std         3.040517      40.774575       3.715205      23.260992   \n",
       "min        80.000000       0.000000    1904.000000     -44.854979   \n",
       "25%        86.000000      15.000000    2009.000000      36.701463   \n",
       "50%        88.000000      25.000000    2011.000000      38.645311   \n",
       "75%        91.000000      40.000000    2013.000000      43.979280   \n",
       "max       100.000000    3300.000000    2017.000000      57.151067   \n",
       "\n",
       "           longitude  \n",
       "count  125345.000000  \n",
       "mean      -45.865747  \n",
       "std        71.801828  \n",
       "min      -125.002441  \n",
       "25%      -118.755997  \n",
       "50%       -74.006015  \n",
       "75%         6.158551  \n",
       "max       178.020649  "
      ]
     },
     "execution_count": 77,
     "metadata": {},
     "output_type": "execute_result"
    }
   ],
   "source": [
    "pd.read_csv(\n",
    "    './vintage_wine_description_processed.csv',index_col=0).fillna(0).filter(regex='^(?!taste)').filter(regex='^(?!temp)').describe()\n"
   ]
  },
  {
   "cell_type": "code",
   "execution_count": 78,
   "metadata": {},
   "outputs": [
    {
     "name": "stdout",
     "output_type": "stream",
     "text": [
      "(125345, 2440) (125345, 2)\n",
      "Training Samples: (100276, 2440) (100276, 2)\n",
      "Validation Samples: (25069, 2440) (25069, 2)\n"
     ]
    }
   ],
   "source": [
    "### split xy and filter out columns that are not needed\n",
    "y_col=['points','price']\n",
    "regex_out_taste='^(?!taste)'\n",
    "X = dfg.filter(regex=regex_out_taste).drop(y_col, axis=1) # Training & Validation data\n",
    "Y = dfg[y_col]              # Response / Target Variable\n",
    "### normalize data\n",
    "from sklearn.preprocessing import MinMaxScaler\n",
    "scaler=MinMaxScaler()\n",
    "X=scaler.fit_transform(X)\n",
    "Y=scaler.fit_transform(Y)\n",
    "# print(Y)\n",
    "\n",
    "print(X.shape, Y.shape)\n",
    "\n",
    "# Split training set so that we validate on 20% of the data\n",
    "# Note that our algorithms will never have seen the validation \n",
    "\n",
    "np.random.seed(5875) # set random seed for reproducibility\n",
    "\n",
    "from sklearn.model_selection import train_test_split\n",
    "\n",
    "X_train, X_val, Y_train, Y_val = \\\n",
    "                train_test_split(X, Y, test_size=0.2)\n",
    "\n",
    "print('Training Samples:', X_train.shape, Y_train.shape)\n",
    "print('Validation Samples:', X_val.shape, Y_val.shape)\n",
    "\n",
    "# train and test with keras"
   ]
  },
  {
   "cell_type": "markdown",
   "metadata": {},
   "source": [
    "# prediction models"
   ]
  },
  {
   "cell_type": "markdown",
   "metadata": {},
   "source": [
    "## Keras neural network"
   ]
  },
  {
   "cell_type": "code",
   "execution_count": 81,
   "metadata": {},
   "outputs": [
    {
     "name": "stdout",
     "output_type": "stream",
     "text": [
      "Epoch 1/5\n",
      "100276/100276 [==============================] - 242s 2ms/step - loss: 0.0114 - mean_squared_error: 0.0114\n",
      "Epoch 2/5\n",
      "100276/100276 [==============================] - 216s 2ms/step - loss: 0.0086 - mean_squared_error: 0.0086\n",
      "Epoch 3/5\n",
      "100276/100276 [==============================] - 209s 2ms/step - loss: 0.0083 - mean_squared_error: 0.0083\n",
      "Epoch 4/5\n",
      "100276/100276 [==============================] - 212s 2ms/step - loss: 0.0082 - mean_squared_error: 0.0082\n",
      "Epoch 5/5\n",
      "100276/100276 [==============================] - 209s 2ms/step - loss: 0.0081 - mean_squared_error: 0.0081\n",
      "mean squared error is: [0.015761, 0.000144]\n",
      "ycol is: ['points', 'price']\n",
      "mean squared error is: [0.015761, 0.000144]\n",
      "mean absolute error is: [0.099481, 0.005806]\n",
      "median_absolute_error is: [0.083797, 0.003562]\n"
     ]
    }
   ],
   "source": [
    "\n",
    "\n",
    "# train and test with keras\n",
    "\n",
    "from keras.models import Sequential\n",
    "from keras.layers import Dense\n",
    "from keras.layers import Dropout\n",
    "from keras import optimizers\n",
    "# Y_train = to_categorical(Y_train)[:,0].squeeze()\n",
    "model = Sequential()\n",
    "model.add( Dense(units=2000,kernel_initializer='random_normal' ,activation='relu', input_shape=(2440,) ))\n",
    "model.add( Dropout(0.5))\n",
    "model.add( Dense(units=1000, activation='relu'))\n",
    "model.add( Dropout(0.5))\n",
    "model.add( Dense(units=500, activation='relu'))\n",
    "model.add( Dropout(0.5))\n",
    "model.add( Dense(units=2, activation='tanh') )\n",
    "# optimizer = optimizers.SGD(lr=0.0001, momentum=0.01, decay=0.01, nesterov=False)\n",
    "model.compile(optimizer='adam',\n",
    "              loss='mean_squared_error',\n",
    "              metrics=['mean_squared_error'])\n",
    "model.fit(X_train, Y_train, epochs = 5, batch_size= 60)\n",
    "y_pred= model.predict(X_val)\n",
    "mse_sep=[round(mean_squared_error(Y_val[:,0], y_pred[:,0]),6),\n",
    "         round(mean_squared_error(Y_val[:,1], y_pred[:,1]),6)]\n",
    "\n",
    "print('mean squared error is:', str(mse_sep))\n",
    "evaluate(y_pred,Y_val,y_col)"
   ]
  },
  {
   "cell_type": "code",
   "execution_count": 5,
   "metadata": {},
   "outputs": [
    {
     "name": "stdout",
     "output_type": "stream",
     "text": [
      "10/10 [==============================] - 0s 10ms/step\n",
      "[[52.12365     0.54923475]\n",
      " [45.096138    0.52003944]\n",
      " [37.309452    0.6428896 ]\n",
      " [30.78351     0.73345983]\n",
      " [34.12419     0.68318707]\n",
      " [34.631615    0.69762534]\n",
      " [41.430897    0.5506857 ]\n",
      " [41.430897    0.5506857 ]\n",
      " [42.932915    0.6374854 ]\n",
      " [41.781708    0.487818  ]]\n",
      "[[35.          1.6969697 ]\n",
      " [35.          0.        ]\n",
      " [35.          0.72727273]\n",
      " [35.          0.21212121]\n",
      " [35.          0.90909091]\n",
      " [35.          0.54545455]\n",
      " [35.          0.60606061]\n",
      " [35.          0.54545455]\n",
      " [35.          0.54545455]\n",
      " [35.          1.21212121]]\n"
     ]
    }
   ],
   "source": [
    "lower_lim=300\n",
    "higher_lim=310\n",
    "print(model.predict(X[lower_lim:higher_lim,:],batch_size=1,verbose=1)*100)\n",
    "print(Y[lower_lim:higher_lim,:]*100)"
   ]
  },
  {
   "cell_type": "markdown",
   "metadata": {},
   "source": [
    "### keras hidden layer optimization"
   ]
  },
  {
   "cell_type": "code",
   "execution_count": 82,
   "metadata": {},
   "outputs": [
    {
     "name": "stdout",
     "output_type": "stream",
     "text": [
      "Epoch 1/5\n",
      "100276/100276 [==============================] - 316s 3ms/step - loss: 0.0109 - mean_squared_error: 0.0109\n",
      "Epoch 2/5\n",
      "100276/100276 [==============================] - 314s 3ms/step - loss: 0.0087 - mean_squared_error: 0.0087\n",
      "Epoch 3/5\n",
      "100276/100276 [==============================] - 315s 3ms/step - loss: 0.0084 - mean_squared_error: 0.0084\n",
      "Epoch 4/5\n",
      "100276/100276 [==============================] - 317s 3ms/step - loss: 0.0083 - mean_squared_error: 0.0083\n",
      "Epoch 5/5\n",
      "100276/100276 [==============================] - 316s 3ms/step - loss: 0.0083 - mean_squared_error: 0.0083\n",
      "mean squared error is: [0.017137, 0.000125]\n",
      "ycol is: ['points', 'price']\n",
      "mean squared error is: [0.017137, 0.000125]\n",
      "mean absolute error is: [0.104829, 0.005159]\n",
      "median_absolute_error is: [0.089069, 0.003031]\n"
     ]
    }
   ],
   "source": [
    "# train and test with keras\n",
    "\n",
    "from keras.models import Sequential\n",
    "from keras.layers import Dense\n",
    "from keras.layers import Dropout\n",
    "from keras import optimizers\n",
    "# Y_train = to_categorical(Y_train)[:,0].squeeze()\n",
    "model = Sequential()\n",
    "model.add( Dense(units=2000,kernel_initializer='random_normal' ,activation='relu', input_shape=(2440,) ))\n",
    "model.add( Dropout(0.5))\n",
    "model.add( Dense(units=2000, activation='relu'))\n",
    "model.add( Dropout(0.5))\n",
    "model.add( Dense(units=1000, activation='relu'))\n",
    "model.add( Dropout(0.5))\n",
    "model.add( Dense(units=500, activation='relu'))\n",
    "model.add( Dropout(0.5))\n",
    "model.add( Dense(units=2, activation='tanh') )\n",
    "# optimizer = optimizers.SGD(lr=0.0001, momentum=0.01, decay=0.01, nesterov=False)\n",
    "model.compile(optimizer='adam',\n",
    "              loss='mean_squared_error',\n",
    "              metrics=['mean_squared_error'])\n",
    "model.fit(X_train, Y_train, epochs = 5, batch_size= 60)\n",
    "y_pred= model.predict(X_val)\n",
    "mse_sep=[round(mean_squared_error(Y_val[:,0], y_pred[:,0]),6),\n",
    "         round(mean_squared_error(Y_val[:,1], y_pred[:,1]),6)]\n",
    "\n",
    "print('mean squared error is:', str(mse_sep))\n",
    "evaluate(y_pred,Y_val,y_col)"
   ]
  },
  {
   "cell_type": "code",
   "execution_count": 83,
   "metadata": {},
   "outputs": [
    {
     "name": "stdout",
     "output_type": "stream",
     "text": [
      "Epoch 1/5\n",
      "100276/100276 [==============================] - 427s 4ms/step - loss: 0.0116 - mean_squared_error: 0.0116\n",
      "Epoch 2/5\n",
      "100276/100276 [==============================] - 426s 4ms/step - loss: 0.0089 - mean_squared_error: 0.0089\n",
      "Epoch 3/5\n",
      "100276/100276 [==============================] - 427s 4ms/step - loss: 0.0085 - mean_squared_error: 0.0085\n",
      "Epoch 4/5\n",
      "100276/100276 [==============================] - 427s 4ms/step - loss: 0.0085 - mean_squared_error: 0.0085\n",
      "Epoch 5/5\n",
      "100276/100276 [==============================] - 422s 4ms/step - loss: 0.0084 - mean_squared_error: 0.0084\n",
      "mean squared error is: [0.017247, 0.000132]\n",
      "ycol is: ['points', 'price']\n",
      "mean squared error is: [0.017247, 0.000132]\n",
      "mean absolute error is: [0.105424, 0.005194]\n",
      "median_absolute_error is: [0.090544, 0.002942]\n"
     ]
    }
   ],
   "source": [
    "# train and test with keras\n",
    "\n",
    "from keras.models import Sequential\n",
    "from keras.layers import Dense\n",
    "from keras.layers import Dropout\n",
    "from keras import optimizers\n",
    "# Y_train = to_categorical(Y_train)[:,0].squeeze()\n",
    "model = Sequential()\n",
    "model.add( Dense(units=2000,kernel_initializer='random_normal' ,activation='relu', input_shape=(2440,) ))\n",
    "model.add( Dropout(0.5))\n",
    "model.add( Dense(units=2000, activation='relu'))\n",
    "model.add( Dropout(0.5))\n",
    "model.add( Dense(units=2000, activation='relu'))\n",
    "model.add( Dropout(0.5))\n",
    "model.add( Dense(units=1000, activation='relu'))\n",
    "model.add( Dropout(0.5))\n",
    "model.add( Dense(units=500, activation='relu'))\n",
    "model.add( Dropout(0.5))\n",
    "model.add( Dense(units=2, activation='tanh') )\n",
    "# optimizer = optimizers.SGD(lr=0.0001, momentum=0.01, decay=0.01, nesterov=False)\n",
    "model.compile(optimizer='adam',\n",
    "              loss='mean_squared_error',\n",
    "              metrics=['mean_squared_error'])\n",
    "model.fit(X_train, Y_train, epochs = 5, batch_size= 60)\n",
    "y_pred= model.predict(X_val)\n",
    "mse_sep=[round(mean_squared_error(Y_val[:,0], y_pred[:,0]),6),\n",
    "         round(mean_squared_error(Y_val[:,1], y_pred[:,1]),6)]\n",
    "\n",
    "print('mean squared error is:', str(mse_sep))\n",
    "evaluate(y_pred,Y_val,y_col)"
   ]
  },
  {
   "cell_type": "code",
   "execution_count": 84,
   "metadata": {},
   "outputs": [
    {
     "name": "stdout",
     "output_type": "stream",
     "text": [
      "Epoch 1/5\n",
      "100276/100276 [==============================] - 534s 5ms/step - loss: 0.0120 - mean_squared_error: 0.0120\n",
      "Epoch 2/5\n",
      "100276/100276 [==============================] - 535s 5ms/step - loss: 0.0090 - mean_squared_error: 0.0090\n",
      "Epoch 3/5\n",
      "100276/100276 [==============================] - 534s 5ms/step - loss: 0.0087 - mean_squared_error: 0.0087\n",
      "Epoch 4/5\n",
      "100276/100276 [==============================] - 532s 5ms/step - loss: 0.0086 - mean_squared_error: 0.0086\n",
      "Epoch 5/5\n",
      "100276/100276 [==============================] - 536s 5ms/step - loss: 0.0086 - mean_squared_error: 0.0086\n",
      "mean squared error is: [0.0171, 0.000136]\n",
      "ycol is: ['points', 'price']\n",
      "mean squared error is: [0.0171, 0.000136]\n",
      "mean absolute error is: [0.104554, 0.005303]\n",
      "median_absolute_error is: [0.089746, 0.002787]\n"
     ]
    }
   ],
   "source": [
    "# train and test with keras\n",
    "\n",
    "from keras.models import Sequential\n",
    "from keras.layers import Dense\n",
    "from keras.layers import Dropout\n",
    "from keras import optimizers\n",
    "# Y_train = to_categorical(Y_train)[:,0].squeeze()\n",
    "model = Sequential()\n",
    "model.add( Dense(units=2000,kernel_initializer='random_normal' ,activation='relu', input_shape=(2440,) ))\n",
    "model.add( Dropout(0.5))\n",
    "model.add( Dense(units=2000, activation='relu'))\n",
    "model.add( Dropout(0.5))\n",
    "model.add( Dense(units=2000, activation='relu'))\n",
    "model.add( Dropout(0.5))\n",
    "model.add( Dense(units=2000, activation='relu'))\n",
    "model.add( Dropout(0.5))\n",
    "model.add( Dense(units=1000, activation='relu'))\n",
    "model.add( Dropout(0.5))\n",
    "model.add( Dense(units=500, activation='relu'))\n",
    "model.add( Dropout(0.5))\n",
    "model.add( Dense(units=2, activation='tanh') )\n",
    "# optimizer = optimizers.SGD(lr=0.0001, momentum=0.01, decay=0.01, nesterov=False)\n",
    "model.compile(optimizer='adam',\n",
    "              loss='mean_squared_error',\n",
    "              metrics=['mean_squared_error'])\n",
    "model.fit(X_train, Y_train, epochs = 5, batch_size= 60)\n",
    "y_pred= model.predict(X_val)\n",
    "mse_sep=[round(mean_squared_error(Y_val[:,0], y_pred[:,0]),6),\n",
    "         round(mean_squared_error(Y_val[:,1], y_pred[:,1]),6)]\n",
    "\n",
    "print('mean squared error is:', str(mse_sep))\n",
    "evaluate(y_pred,Y_val,y_col)"
   ]
  },
  {
   "cell_type": "code",
   "execution_count": 86,
   "metadata": {},
   "outputs": [
    {
     "name": "stdout",
     "output_type": "stream",
     "text": [
      "Epoch 1/5\n",
      "100276/100276 [==============================] - 683s 7ms/step - loss: 0.0112 - mean_squared_error: 0.0112\n",
      "Epoch 2/5\n",
      "100276/100276 [==============================] - 695s 7ms/step - loss: 0.0090 - mean_squared_error: 0.0090\n",
      "Epoch 3/5\n",
      "100276/100276 [==============================] - 665s 7ms/step - loss: 0.0088 - mean_squared_error: 0.0088\n",
      "Epoch 4/5\n",
      "100276/100276 [==============================] - 668s 7ms/step - loss: 0.0088 - mean_squared_error: 0.0088\n",
      "Epoch 5/5\n",
      "100276/100276 [==============================] - 670s 7ms/step - loss: 0.0088 - mean_squared_error: 0.0088\n",
      "mean squared error is: [0.016843, 0.000123]\n",
      "ycol is: ['points', 'price']\n",
      "mean squared error is: [0.016843, 0.000123]\n",
      "mean absolute error is: [0.103504, 0.00507]\n",
      "median_absolute_error is: [0.088795, 0.002922]\n"
     ]
    }
   ],
   "source": [
    "# train and test with keras\n",
    "\n",
    "from keras.models import Sequential\n",
    "from keras.layers import Dense\n",
    "from keras.layers import Dropout\n",
    "from keras import optimizers\n",
    "# Y_train = to_categorical(Y_train)[:,0].squeeze()\n",
    "model = Sequential()\n",
    "model.add( Dense(units=2000,kernel_initializer='random_normal' ,activation='relu', input_shape=(2440,) ))\n",
    "model.add( Dropout(0.5))\n",
    "model.add( Dense(units=2000, activation='relu'))\n",
    "model.add( Dropout(0.5))\n",
    "model.add( Dense(units=2000, activation='relu'))\n",
    "model.add( Dropout(0.5))\n",
    "model.add( Dense(units=2000, activation='relu'))\n",
    "model.add( Dropout(0.5))\n",
    "model.add( Dense(units=2000, activation='relu'))\n",
    "model.add( Dropout(0.5))\n",
    "model.add( Dense(units=1000, activation='relu'))\n",
    "model.add( Dropout(0.5))\n",
    "model.add( Dense(units=500, activation='relu'))\n",
    "model.add( Dropout(0.5))\n",
    "model.add( Dense(units=2, activation='tanh') )\n",
    "# optimizer = optimizers.SGD(lr=0.0001, momentum=0.01, decay=0.01, nesterov=False)\n",
    "model.compile(optimizer='adam',\n",
    "              loss='mean_squared_error',\n",
    "              metrics=['mean_squared_error'])\n",
    "model.fit(X_train, Y_train, epochs = 5, batch_size= 60)\n",
    "y_pred= model.predict(X_val)\n",
    "mse_sep=[round(mean_squared_error(Y_val[:,0], y_pred[:,0]),6),\n",
    "         round(mean_squared_error(Y_val[:,1], y_pred[:,1]),6)]\n",
    "\n",
    "print('mean squared error is:', str(mse_sep))\n",
    "evaluate(y_pred,Y_val,y_col)"
   ]
  },
  {
   "cell_type": "code",
   "execution_count": 87,
   "metadata": {},
   "outputs": [
    {
     "name": "stdout",
     "output_type": "stream",
     "text": [
      "Epoch 1/5\n",
      "100276/100276 [==============================] - 780s 8ms/step - loss: 0.0121 - mean_squared_error: 0.0121\n",
      "Epoch 2/5\n",
      "100276/100276 [==============================] - 777s 8ms/step - loss: 0.0091 - mean_squared_error: 0.0091\n",
      "Epoch 3/5\n",
      "100276/100276 [==============================] - 774s 8ms/step - loss: 0.0088 - mean_squared_error: 0.0088\n",
      "Epoch 4/5\n",
      "100276/100276 [==============================] - 773s 8ms/step - loss: 0.0089 - mean_squared_error: 0.0089\n",
      "Epoch 5/5\n",
      "100276/100276 [==============================] - 778s 8ms/step - loss: 0.0090 - mean_squared_error: 0.0090\n",
      "mean squared error is: [0.017945, 0.000138]\n",
      "ycol is: ['points', 'price']\n",
      "mean squared error is: [0.017945, 0.000138]\n",
      "mean absolute error is: [0.108091, 0.006828]\n",
      "median_absolute_error is: [0.091634, 0.005247]\n"
     ]
    }
   ],
   "source": [
    "# train and test with keras\n",
    "\n",
    "from keras.models import Sequential\n",
    "from keras.layers import Dense\n",
    "from keras.layers import Dropout\n",
    "from keras import optimizers\n",
    "# Y_train = to_categorical(Y_train)[:,0].squeeze()\n",
    "model = Sequential()\n",
    "model.add( Dense(units=2000,kernel_initializer='random_normal' ,activation='relu', input_shape=(2440,) ))\n",
    "model.add( Dropout(0.5))\n",
    "model.add( Dense(units=2000, activation='relu'))\n",
    "model.add( Dropout(0.5))\n",
    "model.add( Dense(units=2000, activation='relu'))\n",
    "model.add( Dropout(0.5))\n",
    "model.add( Dense(units=2000, activation='relu'))\n",
    "model.add( Dropout(0.5))\n",
    "model.add( Dense(units=2000, activation='relu'))\n",
    "model.add( Dropout(0.5))\n",
    "model.add( Dense(units=2000, activation='relu'))\n",
    "model.add( Dropout(0.5))\n",
    "model.add( Dense(units=1000, activation='relu'))\n",
    "model.add( Dropout(0.5))\n",
    "model.add( Dense(units=500, activation='relu'))\n",
    "model.add( Dropout(0.5))\n",
    "model.add( Dense(units=2, activation='tanh') )\n",
    "# optimizer = optimizers.SGD(lr=0.0001, momentum=0.01, decay=0.01, nesterov=False)\n",
    "model.compile(optimizer='adam',\n",
    "              loss='mean_squared_error',\n",
    "              metrics=['mean_squared_error'])\n",
    "model.fit(X_train, Y_train, epochs = 5, batch_size= 60)\n",
    "y_pred= model.predict(X_val)\n",
    "mse_sep=[round(mean_squared_error(Y_val[:,0], y_pred[:,0]),6),\n",
    "         round(mean_squared_error(Y_val[:,1], y_pred[:,1]),6)]\n",
    "\n",
    "print('mean squared error is:', str(mse_sep))\n",
    "evaluate(y_pred,Y_val,y_col)"
   ]
  },
  {
   "cell_type": "code",
   "execution_count": 88,
   "metadata": {},
   "outputs": [
    {
     "name": "stdout",
     "output_type": "stream",
     "text": [
      "Epoch 1/5\n",
      "100276/100276 [==============================] - 884s 9ms/step - loss: 0.0118 - mean_squared_error: 0.0118\n",
      "Epoch 2/5\n",
      "100276/100276 [==============================] - 880s 9ms/step - loss: 0.0092 - mean_squared_error: 0.0092\n",
      "Epoch 3/5\n",
      "100276/100276 [==============================] - 875s 9ms/step - loss: 0.0089 - mean_squared_error: 0.0089\n",
      "Epoch 4/5\n",
      "100276/100276 [==============================] - 881s 9ms/step - loss: 0.0091 - mean_squared_error: 0.0091\n",
      "Epoch 5/5\n",
      "100276/100276 [==============================] - 880s 9ms/step - loss: 0.0093 - mean_squared_error: 0.0093\n",
      "mean squared error is: [0.018248, 0.000137]\n",
      "ycol is: ['points', 'price']\n",
      "mean squared error is: [0.018248, 0.000137]\n",
      "mean absolute error is: [0.109084, 0.006664]\n",
      "median_absolute_error is: [0.091868, 0.005275]\n"
     ]
    }
   ],
   "source": [
    "# train and test with keras\n",
    "\n",
    "from keras.models import Sequential\n",
    "from keras.layers import Dense\n",
    "from keras.layers import Dropout\n",
    "from keras import optimizers\n",
    "# Y_train = to_categorical(Y_train)[:,0].squeeze()\n",
    "model = Sequential()\n",
    "model.add( Dense(units=2000,kernel_initializer='random_normal' ,activation='relu', input_shape=(2440,) ))\n",
    "model.add( Dropout(0.5))\n",
    "model.add( Dense(units=2000, activation='relu'))\n",
    "model.add( Dropout(0.5))\n",
    "model.add( Dense(units=2000, activation='relu'))\n",
    "model.add( Dropout(0.5))\n",
    "model.add( Dense(units=2000, activation='relu'))\n",
    "model.add( Dropout(0.5))\n",
    "model.add( Dense(units=2000, activation='relu'))\n",
    "model.add( Dropout(0.5))\n",
    "model.add( Dense(units=2000, activation='relu'))\n",
    "model.add( Dropout(0.5))\n",
    "model.add( Dense(units=2000, activation='relu'))\n",
    "model.add( Dropout(0.5))\n",
    "model.add( Dense(units=1000, activation='relu'))\n",
    "model.add( Dropout(0.5))\n",
    "model.add( Dense(units=500, activation='relu'))\n",
    "model.add( Dropout(0.5))\n",
    "model.add( Dense(units=2, activation='tanh') )\n",
    "# optimizer = optimizers.SGD(lr=0.0001, momentum=0.01, decay=0.01, nesterov=False)\n",
    "model.compile(optimizer='adam',\n",
    "              loss='mean_squared_error',\n",
    "              metrics=['mean_squared_error'])\n",
    "model.fit(X_train, Y_train, epochs = 5, batch_size= 60)\n",
    "y_pred= model.predict(X_val)\n",
    "mse_sep=[round(mean_squared_error(Y_val[:,0], y_pred[:,0]),6),\n",
    "         round(mean_squared_error(Y_val[:,1], y_pred[:,1]),6)]\n",
    "\n",
    "print('mean squared error is:', str(mse_sep))\n",
    "evaluate(y_pred,Y_val,y_col)"
   ]
  },
  {
   "cell_type": "code",
   "execution_count": 89,
   "metadata": {},
   "outputs": [
    {
     "name": "stdout",
     "output_type": "stream",
     "text": [
      "Epoch 1/5\n",
      "100276/100276 [==============================] - 994s 10ms/step - loss: 0.0115 - mean_squared_error: 0.0115\n",
      "Epoch 2/5\n",
      "100276/100276 [==============================] - 989s 10ms/step - loss: 0.0093 - mean_squared_error: 0.0093\n",
      "Epoch 3/5\n",
      "100276/100276 [==============================] - 994s 10ms/step - loss: 0.0090 - mean_squared_error: 0.0090\n",
      "Epoch 4/5\n",
      "100276/100276 [==============================] - 990s 10ms/step - loss: 0.0092 - mean_squared_error: 0.0092\n",
      "Epoch 5/5\n",
      "100276/100276 [==============================] - 986s 10ms/step - loss: 0.0100 - mean_squared_error: 0.0100\n",
      "mean squared error is: [0.023176, 0.000146]\n",
      "ycol is: ['points', 'price']\n",
      "mean squared error is: [0.023176, 0.000146]\n",
      "mean absolute error is: [0.124428, 0.006461]\n",
      "median_absolute_error is: [0.110542, 0.004709]\n"
     ]
    }
   ],
   "source": [
    "# train and test with keras\n",
    "\n",
    "from keras.models import Sequential\n",
    "from keras.layers import Dense\n",
    "from keras.layers import Dropout\n",
    "from keras import optimizers\n",
    "# Y_train = to_categorical(Y_train)[:,0].squeeze()\n",
    "model = Sequential()\n",
    "model.add( Dense(units=2000,kernel_initializer='random_normal' ,activation='relu', input_shape=(2440,) ))\n",
    "model.add( Dropout(0.5))\n",
    "model.add( Dense(units=2000, activation='relu'))\n",
    "model.add( Dropout(0.5))\n",
    "model.add( Dense(units=2000, activation='relu'))\n",
    "model.add( Dropout(0.5))\n",
    "model.add( Dense(units=2000, activation='relu'))\n",
    "model.add( Dropout(0.5))\n",
    "model.add( Dense(units=2000, activation='relu'))\n",
    "model.add( Dropout(0.5))\n",
    "model.add( Dense(units=2000, activation='relu'))\n",
    "model.add( Dropout(0.5))\n",
    "model.add( Dense(units=2000, activation='relu'))\n",
    "model.add( Dropout(0.5))\n",
    "model.add( Dense(units=2000, activation='relu'))\n",
    "model.add( Dropout(0.5))\n",
    "model.add( Dense(units=1000, activation='relu'))\n",
    "model.add( Dropout(0.5))\n",
    "model.add( Dense(units=500, activation='relu'))\n",
    "model.add( Dropout(0.5))\n",
    "model.add( Dense(units=2, activation='tanh') )\n",
    "# optimizer = optimizers.SGD(lr=0.0001, momentum=0.01, decay=0.01, nesterov=False)\n",
    "model.compile(optimizer='adam',\n",
    "              loss='mean_squared_error',\n",
    "              metrics=['mean_squared_error'])\n",
    "model.fit(X_train, Y_train, epochs = 5, batch_size= 60)\n",
    "y_pred= model.predict(X_val)\n",
    "mse_sep=[round(mean_squared_error(Y_val[:,0], y_pred[:,0]),6),\n",
    "         round(mean_squared_error(Y_val[:,1], y_pred[:,1]),6)]\n",
    "\n",
    "print('mean squared error is:', str(mse_sep))\n",
    "evaluate(y_pred,Y_val,y_col)"
   ]
  },
  {
   "cell_type": "code",
   "execution_count": 90,
   "metadata": {},
   "outputs": [
    {
     "name": "stdout",
     "output_type": "stream",
     "text": [
      "Epoch 1/5\n",
      "100276/100276 [==============================] - 1106s 11ms/step - loss: 0.0113 - mean_squared_error: 0.0113\n",
      "Epoch 2/5\n",
      "100276/100276 [==============================] - 1095s 11ms/step - loss: 0.0093 - mean_squared_error: 0.0093\n",
      "Epoch 3/5\n",
      "100276/100276 [==============================] - 1108s 11ms/step - loss: 0.0091 - mean_squared_error: 0.0091\n",
      "Epoch 4/5\n",
      "100276/100276 [==============================] - 1164s 12ms/step - loss: 0.0096 - mean_squared_error: 0.0096\n",
      "Epoch 5/5\n",
      "100276/100276 [==============================] - 1117s 11ms/step - loss: 0.0114 - mean_squared_error: 0.0114\n",
      "mean squared error is: [0.023492, 0.000142]\n",
      "ycol is: ['points', 'price']\n",
      "mean squared error is: [0.023492, 0.000142]\n",
      "mean absolute error is: [0.125361, 0.006391]\n",
      "median_absolute_error is: [0.120772, 0.0049]\n"
     ]
    }
   ],
   "source": [
    "# train and test with keras\n",
    "\n",
    "from keras.models import Sequential\n",
    "from keras.layers import Dense\n",
    "from keras.layers import Dropout\n",
    "from keras import optimizers\n",
    "# Y_train = to_categorical(Y_train)[:,0].squeeze()\n",
    "model = Sequential()\n",
    "model.add( Dense(units=2000,kernel_initializer='random_normal' ,activation='relu', input_shape=(2440,) ))\n",
    "model.add( Dropout(0.5))\n",
    "model.add( Dense(units=2000, activation='relu'))\n",
    "model.add( Dropout(0.5))\n",
    "model.add( Dense(units=2000, activation='relu'))\n",
    "model.add( Dropout(0.5))\n",
    "model.add( Dense(units=2000, activation='relu'))\n",
    "model.add( Dropout(0.5))\n",
    "model.add( Dense(units=2000, activation='relu'))\n",
    "model.add( Dropout(0.5))\n",
    "model.add( Dense(units=2000, activation='relu'))\n",
    "model.add( Dropout(0.5))\n",
    "model.add( Dense(units=2000, activation='relu'))\n",
    "model.add( Dropout(0.5))\n",
    "model.add( Dense(units=2000, activation='relu'))\n",
    "model.add( Dropout(0.5))\n",
    "model.add( Dense(units=2000, activation='relu'))\n",
    "model.add( Dropout(0.5))\n",
    "model.add( Dense(units=1000, activation='relu'))\n",
    "model.add( Dropout(0.5))\n",
    "model.add( Dense(units=500, activation='relu'))\n",
    "model.add( Dropout(0.5))\n",
    "model.add( Dense(units=2, activation='tanh') )\n",
    "# optimizer = optimizers.SGD(lr=0.0001, momentum=0.01, decay=0.01, nesterov=False)\n",
    "model.compile(optimizer='adam',\n",
    "              loss='mean_squared_error',\n",
    "              metrics=['mean_squared_error'])\n",
    "model.fit(X_train, Y_train, epochs = 5, batch_size= 60)\n",
    "y_pred= model.predict(X_val)\n",
    "mse_sep=[round(mean_squared_error(Y_val[:,0], y_pred[:,0]),6),\n",
    "         round(mean_squared_error(Y_val[:,1], y_pred[:,1]),6)]\n",
    "\n",
    "print('mean squared error is:', str(mse_sep))\n",
    "evaluate(y_pred,Y_val,y_col)"
   ]
  },
  {
   "cell_type": "code",
   "execution_count": 91,
   "metadata": {},
   "outputs": [
    {
     "name": "stdout",
     "output_type": "stream",
     "text": [
      "Epoch 1/5\n",
      "100276/100276 [==============================] - 1213s 12ms/step - loss: 0.0113 - mean_squared_error: 0.0113\n",
      "Epoch 2/5\n",
      "100276/100276 [==============================] - 1205s 12ms/step - loss: 0.0094 - mean_squared_error: 0.0094\n",
      "Epoch 3/5\n",
      "100276/100276 [==============================] - 1204s 12ms/step - loss: 0.0093 - mean_squared_error: 0.0093\n",
      "Epoch 4/5\n",
      "100276/100276 [==============================] - 1204s 12ms/step - loss: 0.0107 - mean_squared_error: 0.0107\n",
      "Epoch 5/5\n",
      "100276/100276 [==============================] - 1201s 12ms/step - loss: 0.0118 - mean_squared_error: 0.0118\n",
      "mean squared error is: [0.023501, 0.000142]\n",
      "ycol is: ['points', 'price']\n",
      "mean squared error is: [0.023501, 0.000142]\n",
      "mean absolute error is: [0.125399, 0.006542]\n",
      "median_absolute_error is: [0.119903, 0.005285]\n"
     ]
    }
   ],
   "source": [
    "# train and test with keras\n",
    "\n",
    "from keras.models import Sequential\n",
    "from keras.layers import Dense\n",
    "from keras.layers import Dropout\n",
    "from keras import optimizers\n",
    "# Y_train = to_categorical(Y_train)[:,0].squeeze()\n",
    "model = Sequential()\n",
    "model.add( Dense(units=2000,kernel_initializer='random_normal' ,activation='relu', input_shape=(2440,) ))\n",
    "model.add( Dropout(0.5))\n",
    "model.add( Dense(units=2000, activation='relu'))\n",
    "model.add( Dropout(0.5))\n",
    "model.add( Dense(units=2000, activation='relu'))\n",
    "model.add( Dropout(0.5))\n",
    "model.add( Dense(units=2000, activation='relu'))\n",
    "model.add( Dropout(0.5))\n",
    "model.add( Dense(units=2000, activation='relu'))\n",
    "model.add( Dropout(0.5))\n",
    "model.add( Dense(units=2000, activation='relu'))\n",
    "model.add( Dropout(0.5))\n",
    "model.add( Dense(units=2000, activation='relu'))\n",
    "model.add( Dropout(0.5))\n",
    "model.add( Dense(units=2000, activation='relu'))\n",
    "model.add( Dropout(0.5))\n",
    "model.add( Dense(units=2000, activation='relu'))\n",
    "model.add( Dropout(0.5))\n",
    "model.add( Dense(units=2000, activation='relu'))\n",
    "model.add( Dropout(0.5))\n",
    "model.add( Dense(units=1000, activation='relu'))\n",
    "model.add( Dropout(0.5))\n",
    "model.add( Dense(units=500, activation='relu'))\n",
    "model.add( Dropout(0.5))\n",
    "model.add( Dense(units=2, activation='tanh') )\n",
    "# optimizer = optimizers.SGD(lr=0.0001, momentum=0.01, decay=0.01, nesterov=False)\n",
    "model.compile(optimizer='adam',\n",
    "              loss='mean_squared_error',\n",
    "              metrics=['mean_squared_error'])\n",
    "model.fit(X_train, Y_train, epochs = 5, batch_size= 60)\n",
    "y_pred= model.predict(X_val)\n",
    "mse_sep=[round(mean_squared_error(Y_val[:,0], y_pred[:,0]),6),\n",
    "         round(mean_squared_error(Y_val[:,1], y_pred[:,1]),6)]\n",
    "\n",
    "print('mean squared error is:', str(mse_sep))\n",
    "evaluate(y_pred,Y_val,y_col)"
   ]
  },
  {
   "cell_type": "markdown",
   "metadata": {},
   "source": [
    "# Lasso"
   ]
  },
  {
   "cell_type": "code",
   "execution_count": null,
   "metadata": {},
   "outputs": [],
   "source": [
    "from sklearn.linear_model import Lasso\n",
    "from sklearn.metrics import mean_squared_error\n",
    "#lasso model\n",
    "lasso = Lasso()   # instantiate\n",
    "lasso.fit(X_train, Y_train)                         # fit\n",
    "y_pred= lasso.predict(X_val)\n",
    "evaluate(y_pred,Y_val,y_col)"
   ]
  },
  {
   "cell_type": "markdown",
   "metadata": {},
   "source": [
    "# Elasticnet"
   ]
  },
  {
   "cell_type": "code",
   "execution_count": 7,
   "metadata": {},
   "outputs": [
    {
     "name": "stdout",
     "output_type": "stream",
     "text": [
      "ycol is: ['points', 'price']\n",
      "mean squared error is: [0.023469, 0.000141]\n",
      "mean absolute error is: [0.125139, 0.006185]\n",
      "median_absolute_error is: [0.124262, 0.004565]\n"
     ]
    }
   ],
   "source": [
    "from sklearn.linear_model import ElasticNet\n",
    "from sklearn.metrics import mean_squared_error\n",
    "#elasticnet model\n",
    "elas = ElasticNet()   # instantiate\n",
    "elas.fit(X_train, Y_train)                         # fit\n",
    "y_pred = elas.predict(X_val)\n",
    "evaluate(y_pred,Y_val,y_col)"
   ]
  },
  {
   "cell_type": "markdown",
   "metadata": {},
   "source": [
    "# Ridge"
   ]
  },
  {
   "cell_type": "code",
   "execution_count": 8,
   "metadata": {},
   "outputs": [
    {
     "name": "stdout",
     "output_type": "stream",
     "text": [
      "ycol is: ['points', 'price']\n",
      "mean squared error is: [0.015954, 0.000108]\n",
      "mean absolute error is: [0.100137, 0.004624]\n",
      "median_absolute_error is: [0.083973, 0.002749]\n"
     ]
    }
   ],
   "source": [
    "from sklearn.linear_model import Ridge\n",
    "from sklearn.metrics import mean_squared_error\n",
    "#ridge model\n",
    "ridge = Ridge()   # instantiate\n",
    "ridge.fit(X_train, Y_train)                         # fit\n",
    "y_pred = ridge.predict(X_val)\n",
    "evaluate(y_pred,Y_val,y_col)"
   ]
  },
  {
   "cell_type": "markdown",
   "metadata": {},
   "source": [
    "# XGBoost"
   ]
  },
  {
   "cell_type": "code",
   "execution_count": 5,
   "metadata": {},
   "outputs": [
    {
     "ename": "KeyboardInterrupt",
     "evalue": "",
     "output_type": "error",
     "traceback": [
      "\u001b[0;31m---------------------------------------------------------------------------\u001b[0m",
      "\u001b[0;31mKeyboardInterrupt\u001b[0m                         Traceback (most recent call last)",
      "\u001b[0;32m<ipython-input-5-86340f950159>\u001b[0m in \u001b[0;36m<module>\u001b[0;34m\u001b[0m\n\u001b[1;32m     13\u001b[0m \u001b[0;31m# Solution:\u001b[0m\u001b[0;34m\u001b[0m\u001b[0;34m\u001b[0m\u001b[0;34m\u001b[0m\u001b[0m\n\u001b[1;32m     14\u001b[0m \u001b[0mpd\u001b[0m\u001b[0;34m.\u001b[0m\u001b[0mconcat\u001b[0m\u001b[0;34m(\u001b[0m\u001b[0;34m[\u001b[0m\u001b[0mpd\u001b[0m\u001b[0;34m.\u001b[0m\u001b[0mDataFrame\u001b[0m\u001b[0;34m(\u001b[0m\u001b[0mY_val\u001b[0m\u001b[0;34m)\u001b[0m\u001b[0;34m[\u001b[0m\u001b[0;36m0\u001b[0m\u001b[0;34m]\u001b[0m\u001b[0;34m,\u001b[0m \u001b[0mpd\u001b[0m\u001b[0;34m.\u001b[0m\u001b[0mDataFrame\u001b[0m\u001b[0;34m(\u001b[0m\u001b[0mX_val\u001b[0m\u001b[0;34m)\u001b[0m\u001b[0;34m]\u001b[0m\u001b[0;34m,\u001b[0m \u001b[0maxis\u001b[0m\u001b[0;34m=\u001b[0m\u001b[0;36m1\u001b[0m\u001b[0;34m)\u001b[0m\u001b[0;34m.\u001b[0m\u001b[0mto_csv\u001b[0m\u001b[0;34m(\u001b[0m\u001b[0mos\u001b[0m\u001b[0;34m.\u001b[0m\u001b[0mpath\u001b[0m\u001b[0;34m.\u001b[0m\u001b[0mjoin\u001b[0m\u001b[0;34m(\u001b[0m\u001b[0mdata_dir\u001b[0m\u001b[0;34m,\u001b[0m \u001b[0;34m'validation.csv'\u001b[0m\u001b[0;34m)\u001b[0m\u001b[0;34m,\u001b[0m \u001b[0mheader\u001b[0m\u001b[0;34m=\u001b[0m\u001b[0;32mFalse\u001b[0m\u001b[0;34m,\u001b[0m \u001b[0mindex\u001b[0m\u001b[0;34m=\u001b[0m\u001b[0;32mFalse\u001b[0m\u001b[0;34m)\u001b[0m\u001b[0;34m\u001b[0m\u001b[0;34m\u001b[0m\u001b[0m\n\u001b[0;32m---> 15\u001b[0;31m \u001b[0mpd\u001b[0m\u001b[0;34m.\u001b[0m\u001b[0mconcat\u001b[0m\u001b[0;34m(\u001b[0m\u001b[0;34m[\u001b[0m\u001b[0mpd\u001b[0m\u001b[0;34m.\u001b[0m\u001b[0mDataFrame\u001b[0m\u001b[0;34m(\u001b[0m\u001b[0mY_train\u001b[0m\u001b[0;34m)\u001b[0m\u001b[0;34m[\u001b[0m\u001b[0;36m0\u001b[0m\u001b[0;34m]\u001b[0m\u001b[0;34m,\u001b[0m \u001b[0mpd\u001b[0m\u001b[0;34m.\u001b[0m\u001b[0mDataFrame\u001b[0m\u001b[0;34m(\u001b[0m\u001b[0mX_train\u001b[0m\u001b[0;34m)\u001b[0m\u001b[0;34m]\u001b[0m\u001b[0;34m,\u001b[0m \u001b[0maxis\u001b[0m\u001b[0;34m=\u001b[0m\u001b[0;36m1\u001b[0m\u001b[0;34m)\u001b[0m\u001b[0;34m.\u001b[0m\u001b[0mto_csv\u001b[0m\u001b[0;34m(\u001b[0m\u001b[0mos\u001b[0m\u001b[0;34m.\u001b[0m\u001b[0mpath\u001b[0m\u001b[0;34m.\u001b[0m\u001b[0mjoin\u001b[0m\u001b[0;34m(\u001b[0m\u001b[0mdata_dir\u001b[0m\u001b[0;34m,\u001b[0m \u001b[0;34m'train.csv'\u001b[0m\u001b[0;34m)\u001b[0m\u001b[0;34m,\u001b[0m \u001b[0mheader\u001b[0m\u001b[0;34m=\u001b[0m\u001b[0;32mFalse\u001b[0m\u001b[0;34m,\u001b[0m \u001b[0mindex\u001b[0m\u001b[0;34m=\u001b[0m\u001b[0;32mFalse\u001b[0m\u001b[0;34m)\u001b[0m\u001b[0;34m\u001b[0m\u001b[0;34m\u001b[0m\u001b[0m\n\u001b[0m",
      "\u001b[0;32m/anaconda3/envs/learnai/lib/python3.6/site-packages/pandas/core/generic.py\u001b[0m in \u001b[0;36mto_csv\u001b[0;34m(self, path_or_buf, sep, na_rep, float_format, columns, header, index, index_label, mode, encoding, compression, quoting, quotechar, line_terminator, chunksize, date_format, doublequote, escapechar, decimal)\u001b[0m\n\u001b[1;32m   3227\u001b[0m             \u001b[0mdecimal\u001b[0m\u001b[0;34m=\u001b[0m\u001b[0mdecimal\u001b[0m\u001b[0;34m,\u001b[0m\u001b[0;34m\u001b[0m\u001b[0;34m\u001b[0m\u001b[0m\n\u001b[1;32m   3228\u001b[0m         )\n\u001b[0;32m-> 3229\u001b[0;31m         \u001b[0mformatter\u001b[0m\u001b[0;34m.\u001b[0m\u001b[0msave\u001b[0m\u001b[0;34m(\u001b[0m\u001b[0;34m)\u001b[0m\u001b[0;34m\u001b[0m\u001b[0;34m\u001b[0m\u001b[0m\n\u001b[0m\u001b[1;32m   3230\u001b[0m \u001b[0;34m\u001b[0m\u001b[0m\n\u001b[1;32m   3231\u001b[0m         \u001b[0;32mif\u001b[0m \u001b[0mpath_or_buf\u001b[0m \u001b[0;32mis\u001b[0m \u001b[0;32mNone\u001b[0m\u001b[0;34m:\u001b[0m\u001b[0;34m\u001b[0m\u001b[0;34m\u001b[0m\u001b[0m\n",
      "\u001b[0;32m/anaconda3/envs/learnai/lib/python3.6/site-packages/pandas/io/formats/csvs.py\u001b[0m in \u001b[0;36msave\u001b[0;34m(self)\u001b[0m\n\u001b[1;32m    200\u001b[0m                 \u001b[0mself\u001b[0m\u001b[0;34m.\u001b[0m\u001b[0mwriter\u001b[0m \u001b[0;34m=\u001b[0m \u001b[0mUnicodeWriter\u001b[0m\u001b[0;34m(\u001b[0m\u001b[0mf\u001b[0m\u001b[0;34m,\u001b[0m \u001b[0;34m**\u001b[0m\u001b[0mwriter_kwargs\u001b[0m\u001b[0;34m)\u001b[0m\u001b[0;34m\u001b[0m\u001b[0;34m\u001b[0m\u001b[0m\n\u001b[1;32m    201\u001b[0m \u001b[0;34m\u001b[0m\u001b[0m\n\u001b[0;32m--> 202\u001b[0;31m             \u001b[0mself\u001b[0m\u001b[0;34m.\u001b[0m\u001b[0m_save\u001b[0m\u001b[0;34m(\u001b[0m\u001b[0;34m)\u001b[0m\u001b[0;34m\u001b[0m\u001b[0;34m\u001b[0m\u001b[0m\n\u001b[0m\u001b[1;32m    203\u001b[0m \u001b[0;34m\u001b[0m\u001b[0m\n\u001b[1;32m    204\u001b[0m         \u001b[0;32mfinally\u001b[0m\u001b[0;34m:\u001b[0m\u001b[0;34m\u001b[0m\u001b[0;34m\u001b[0m\u001b[0m\n",
      "\u001b[0;32m/anaconda3/envs/learnai/lib/python3.6/site-packages/pandas/io/formats/csvs.py\u001b[0m in \u001b[0;36m_save\u001b[0;34m(self)\u001b[0m\n\u001b[1;32m    322\u001b[0m                 \u001b[0;32mbreak\u001b[0m\u001b[0;34m\u001b[0m\u001b[0;34m\u001b[0m\u001b[0m\n\u001b[1;32m    323\u001b[0m \u001b[0;34m\u001b[0m\u001b[0m\n\u001b[0;32m--> 324\u001b[0;31m             \u001b[0mself\u001b[0m\u001b[0;34m.\u001b[0m\u001b[0m_save_chunk\u001b[0m\u001b[0;34m(\u001b[0m\u001b[0mstart_i\u001b[0m\u001b[0;34m,\u001b[0m \u001b[0mend_i\u001b[0m\u001b[0;34m)\u001b[0m\u001b[0;34m\u001b[0m\u001b[0;34m\u001b[0m\u001b[0m\n\u001b[0m\u001b[1;32m    325\u001b[0m \u001b[0;34m\u001b[0m\u001b[0m\n\u001b[1;32m    326\u001b[0m     \u001b[0;32mdef\u001b[0m \u001b[0m_save_chunk\u001b[0m\u001b[0;34m(\u001b[0m\u001b[0mself\u001b[0m\u001b[0;34m,\u001b[0m \u001b[0mstart_i\u001b[0m\u001b[0;34m,\u001b[0m \u001b[0mend_i\u001b[0m\u001b[0;34m)\u001b[0m\u001b[0;34m:\u001b[0m\u001b[0;34m\u001b[0m\u001b[0;34m\u001b[0m\u001b[0m\n",
      "\u001b[0;32m/anaconda3/envs/learnai/lib/python3.6/site-packages/pandas/io/formats/csvs.py\u001b[0m in \u001b[0;36m_save_chunk\u001b[0;34m(self, start_i, end_i)\u001b[0m\n\u001b[1;32m    338\u001b[0m                 \u001b[0mdecimal\u001b[0m\u001b[0;34m=\u001b[0m\u001b[0mself\u001b[0m\u001b[0;34m.\u001b[0m\u001b[0mdecimal\u001b[0m\u001b[0;34m,\u001b[0m\u001b[0;34m\u001b[0m\u001b[0;34m\u001b[0m\u001b[0m\n\u001b[1;32m    339\u001b[0m                 \u001b[0mdate_format\u001b[0m\u001b[0;34m=\u001b[0m\u001b[0mself\u001b[0m\u001b[0;34m.\u001b[0m\u001b[0mdate_format\u001b[0m\u001b[0;34m,\u001b[0m\u001b[0;34m\u001b[0m\u001b[0;34m\u001b[0m\u001b[0m\n\u001b[0;32m--> 340\u001b[0;31m                 \u001b[0mquoting\u001b[0m\u001b[0;34m=\u001b[0m\u001b[0mself\u001b[0m\u001b[0;34m.\u001b[0m\u001b[0mquoting\u001b[0m\u001b[0;34m,\u001b[0m\u001b[0;34m\u001b[0m\u001b[0;34m\u001b[0m\u001b[0m\n\u001b[0m\u001b[1;32m    341\u001b[0m             )\n\u001b[1;32m    342\u001b[0m \u001b[0;34m\u001b[0m\u001b[0m\n",
      "\u001b[0;32m/anaconda3/envs/learnai/lib/python3.6/site-packages/pandas/core/internals/blocks.py\u001b[0m in \u001b[0;36mto_native_types\u001b[0;34m(self, slicer, na_rep, float_format, decimal, quoting, **kwargs)\u001b[0m\n\u001b[1;32m   2112\u001b[0m \u001b[0;34m\u001b[0m\u001b[0m\n\u001b[1;32m   2113\u001b[0m             \u001b[0;32mif\u001b[0m \u001b[0;32mnot\u001b[0m \u001b[0mquoting\u001b[0m\u001b[0;34m:\u001b[0m\u001b[0;34m\u001b[0m\u001b[0;34m\u001b[0m\u001b[0m\n\u001b[0;32m-> 2114\u001b[0;31m                 \u001b[0mvalues\u001b[0m \u001b[0;34m=\u001b[0m \u001b[0mvalues\u001b[0m\u001b[0;34m.\u001b[0m\u001b[0mastype\u001b[0m\u001b[0;34m(\u001b[0m\u001b[0mstr\u001b[0m\u001b[0;34m)\u001b[0m\u001b[0;34m\u001b[0m\u001b[0;34m\u001b[0m\u001b[0m\n\u001b[0m\u001b[1;32m   2115\u001b[0m             \u001b[0;32melse\u001b[0m\u001b[0;34m:\u001b[0m\u001b[0;34m\u001b[0m\u001b[0;34m\u001b[0m\u001b[0m\n\u001b[1;32m   2116\u001b[0m                 \u001b[0mvalues\u001b[0m \u001b[0;34m=\u001b[0m \u001b[0mnp\u001b[0m\u001b[0;34m.\u001b[0m\u001b[0marray\u001b[0m\u001b[0;34m(\u001b[0m\u001b[0mvalues\u001b[0m\u001b[0;34m,\u001b[0m \u001b[0mdtype\u001b[0m\u001b[0;34m=\u001b[0m\u001b[0;34m\"object\"\u001b[0m\u001b[0;34m)\u001b[0m\u001b[0;34m\u001b[0m\u001b[0;34m\u001b[0m\u001b[0m\n",
      "\u001b[0;31mKeyboardInterrupt\u001b[0m: "
     ]
    }
   ],
   "source": [
    "import os\n",
    "data_dir = './xgboost_data/'\n",
    "if not os.path.exists(data_dir):\n",
    "    os.makedirs(data_dir)\n",
    "# First, save the test data to test.csv in the data_dir directory. Note that we do not save the associated ground truth\n",
    "# labels, instead we will use them later to compare with our model output.\n",
    "\n",
    "pd.DataFrame(X_val).to_csv(os.path.join(data_dir, 'test.csv'), header=False, index=False)\n",
    "\n",
    "# TODO: Save the training and validation data to train.csv and validation.csv in the data_dir directory.\n",
    "#       Make sure that the files you create are in the correct format.\n",
    "\n",
    "# Solution:\n",
    "pd.concat([pd.DataFrame(Y_val)[0], pd.DataFrame(X_val)], axis=1).to_csv(os.path.join(data_dir, 'validation.csv'), header=False, index=False)\n",
    "pd.concat([pd.DataFrame(Y_train)[0], pd.DataFrame(X_train)], axis=1).to_csv(os.path.join(data_dir, 'train.csv'), header=False, index=False)"
   ]
  },
  {
   "cell_type": "markdown",
   "metadata": {},
   "source": [
    "## Xgboost using aws sagemaker"
   ]
  },
  {
   "cell_type": "code",
   "execution_count": null,
   "metadata": {},
   "outputs": [],
   "source": [
    "## \n",
    "import sagemaker\n",
    "\n",
    "session = sagemaker.Session() # Store the current SageMaker session\n",
    "\n",
    "# S3 prefix (which folder will we use)\n",
    "prefix = 'sentiment-xgboost'\n",
    "\n",
    "# TODO: Upload the test.csv, train.csv and validation.csv files which are contained in data_dir to S3 using sess.upload_data().\n",
    "\n",
    "test_location = session.upload_data(os.path.join(data_dir, 'test.csv'), key_prefix=prefix)\n",
    "val_location = session.upload_data(os.path.join(data_dir, 'validation.csv'), key_prefix=prefix)\n",
    "train_location = session.upload_data(os.path.join(data_dir, 'train.csv'), key_prefix=prefix)"
   ]
  },
  {
   "cell_type": "code",
   "execution_count": null,
   "metadata": {},
   "outputs": [],
   "source": [
    "# TODO: Create a SageMaker estimator using the container location determined in the previous cell.\n",
    "#       It is recommended that you use a single training instance of type ml.m4.xlarge. It is also\n",
    "#       recommended that you use 's3://{}/{}/output'.format(session.default_bucket(), prefix) as the\n",
    "#       output path.\n",
    "# Solution:\n",
    "xgb = sagemaker.estimator.Estimator(container, # The location of the container we wish to use\n",
    "                                    role,                                    # What is our current IAM Role\n",
    "                                    train_instance_count=1,                  # How many compute instances\n",
    "                                    train_instance_type='ml.m4.xlarge',      # What kind of compute instances\n",
    "                                    output_path='s3://{}/{}/output'.format(session.default_bucket(), prefix),\n",
    "                                    sagemaker_session=session)\n",
    "\n",
    "# TODO: Set the XGBoost hyperparameters in the xgb object. Don't forget that in this case we have a binary\n",
    "#       label so we should be using the 'binary:logistic' objective.\n",
    "\n",
    "# Solution:\n",
    "xgb.set_hyperparameters(max_depth=5,\n",
    "                        eta=0.2,\n",
    "                        gamma=4,\n",
    "                        min_child_weight=6,\n",
    "                        subsample=0.8,\n",
    "                        silent=0,\n",
    "                        objective='binary:logistic',\n",
    "                        early_stopping_rounds=10,\n",
    "                        num_round=500)"
   ]
  },
  {
   "cell_type": "code",
   "execution_count": null,
   "metadata": {},
   "outputs": [],
   "source": [
    "s3_input_train = sagemaker.s3_input(s3_data=train_location, content_type='csv')\n",
    "s3_input_validation = sagemaker.s3_input(s3_data=val_location, content_type='csv')\n",
    "\n",
    "xgb.fit({'train': s3_input_train, 'validation': s3_input_validation})"
   ]
  },
  {
   "cell_type": "code",
   "execution_count": 213,
   "metadata": {},
   "outputs": [],
   "source": [
    "# import xgboost as xgb\n",
    "# gbm = xgb.XGBClassifier(max_depth=2,n_estimators=10,verbosity=3)\n",
    "# print('model initiated')\n",
    "# gbm.fit(X_train, Y_train[:,0])  \n",
    "# y_pred = gbm.predict(X_val)"
   ]
  },
  {
   "cell_type": "code",
   "execution_count": null,
   "metadata": {},
   "outputs": [],
   "source": [
    "import xgboost as xgb\n",
    "gbm2 = xgb.XGBClassifier()\n",
    "gbm2.fit(X_train, Y_train[:,1])  \n",
    "y_pred2 = gbm2.predict(X_val)"
   ]
  },
  {
   "cell_type": "markdown",
   "metadata": {},
   "source": [
    "# LightGBM"
   ]
  },
  {
   "cell_type": "code",
   "execution_count": 5,
   "metadata": {},
   "outputs": [
    {
     "name": "stdout",
     "output_type": "stream",
     "text": [
      "ycol is: ['points', 'price']\n",
      "mean squared error is: [0.015818, 0.000108]\n",
      "mean absolute error is: [0.100263, 0.004548]\n",
      "median_absolute_error is: [0.085476, 0.0026]\n"
     ]
    }
   ],
   "source": [
    "from lightgbm.sklearn import LGBMRegressor\n",
    "from sklearn.multioutput import MultiOutputRegressor\n",
    "lgbm = LGBMRegressor()           # create\n",
    "lgbm_regr= MultiOutputRegressor(lgbm)\n",
    "lgbm_regr.fit(X_train, Y_train)            # train\n",
    "y_pred=lgbm_regr.predict(X_val)\n",
    "evaluate(y_pred,Y_val,['points', 'price'])"
   ]
  },
  {
   "cell_type": "markdown",
   "metadata": {},
   "source": [
    "# ADABOOST"
   ]
  },
  {
   "cell_type": "code",
   "execution_count": 6,
   "metadata": {},
   "outputs": [
    {
     "name": "stdout",
     "output_type": "stream",
     "text": [
      "ycol is: ['points', 'price']\n",
      "mean squared error is: [0.021732, 0.000143]\n",
      "mean absolute error is: [0.120232, 0.00645]\n",
      "median_absolute_error is: [0.105155, 0.005121]\n"
     ]
    }
   ],
   "source": [
    "from sklearn.ensemble import AdaBoostRegressor\n",
    "from sklearn.multioutput import MultiOutputRegressor\n",
    "adab = AdaBoostRegressor()           # create\n",
    "adab_regr= MultiOutputRegressor(adab)\n",
    "adab_regr.fit(X_train, Y_train)            # train\n",
    "y_pred=adab_regr.predict(X_val)\n",
    "evaluate(y_pred,Y_val,['points', 'price'])"
   ]
  },
  {
   "cell_type": "markdown",
   "metadata": {},
   "source": [
    "#  Analysis of model output"
   ]
  },
  {
   "cell_type": "code",
   "execution_count": 7,
   "metadata": {},
   "outputs": [],
   "source": [
    "from sklearn.multioutput import MultiOutputRegressor\n",
    "def test_model(model_main):\n",
    "    model = model_main()           # create\n",
    "    model_regr= MultiOutputRegressor(model)\n",
    "    model_regr.fit(X_train, Y_train)            # train\n",
    "    y_pred=model_regr.predict(X_val)\n",
    "    evaluate(y_pred,Y_val,['points', 'price'])"
   ]
  },
  {
   "cell_type": "code",
   "execution_count": 8,
   "metadata": {},
   "outputs": [],
   "source": [
    "import matplotlib.pyplot as plt\n",
    "import seaborn as sns\n",
    "\n",
    "point_df = pd.DataFrame({\n",
    "    'classifier':['AdaBoostRegressor','LGBMRegressor','Ridge','ElasticNet','Lasso','neural_network','linearRegression'],\n",
    "    'mse':[0.021732,0.015818,0.015954,0.023469,0.023469,0.015985,],\n",
    "    'mae':[0.120232,0.100263,0.100137,0.125139,0.125139,0.100671,],\n",
    "    'medae':[0.105155,0.085476,0.083973,0.124262,0.124262,0.08497,],\n",
    "})\n",
    "price_df = pd.DataFrame({\n",
    "    'classifier':['AdaBoostRegressor','LGBMRegressor','Ridge','ElasticNet','Lasso','neural_network','linearRegression'],\n",
    "    'mse':[0.000143,0.000108,0.000108,0.000141,0.000141,0.000145,],\n",
    "    'mae':[0.00645,0.004548,0.004624,0.006185,0.006185,0.006052,],\n",
    "    'medae':[0.005121,0.0026,0.002749,0.004565,0.004565,0.003512,],\n",
    "})\n",
    "from sklearn.preprocessing import MinMaxScaler\n",
    "scaler=MinMaxScaler()\n",
    "for col in (point for point in point_df.columns if point not in ['classifier']):\n",
    "    point_df[col]= scaler.fit_transform(point_df[col].to_numpy().reshape(-1, 1))\n",
    "for col in (point for point in point_df.columns if point not in ['classifier']):\n",
    "    price_df[col]= scaler.fit_transform(price_df[col].to_numpy().reshape(-1, 1))\n",
    "# point_scaled=scaler.fit_transform(point_df.set_index('classifier'))\n",
    "# price_scaled=scaler.fit_transform(price_df.set_index('classifier'))\n"
   ]
  },
  {
   "cell_type": "code",
   "execution_count": null,
   "metadata": {},
   "outputs": [],
   "source": [
    "# fig,ax=plt.subplots()\n",
    "# point_df.hist('mse',ax=ax)\n",
    "# ax.bar('classifier','mse',0.5,data=point_df)\n",
    "# ax.bar('classifier','mae',0.5,data=point_df)\n",
    "# ax.set_xticks()\n",
    "g = sns.catplot(x=\"classifier\", y=\"mse\", data=point_df,\n",
    "                height=6, kind=\"bar\", palette=\"muted\")\n",
    "g1 = sns.catplot(x=\"classifier\", y=\"mae\", data=point_df,\n",
    "                height=6, kind=\"bar\", palette=\"muted\")\n",
    "# g.despine(left=True)\n",
    "# g.set_ylabels(\"survival probability\")"
   ]
  },
  {
   "cell_type": "code",
   "execution_count": null,
   "metadata": {},
   "outputs": [],
   "source": [
    "dir(ax)"
   ]
  },
  {
   "cell_type": "code",
   "execution_count": 14,
   "metadata": {},
   "outputs": [
    {
     "data": {
      "text/plain": [
       "Text(0.5, 1.0, 'point predictor')"
      ]
     },
     "execution_count": 14,
     "metadata": {},
     "output_type": "execute_result"
    },
    {
     "data": {
      "image/png": "[encoded data removed]",
      "text/plain": [
       "<Figure size 432x288 with 1 Axes>"
      ]
     },
     "metadata": {
      "needs_background": "light"
     },
     "output_type": "display_data"
    }
   ],
   "source": [
    "fig,ax = plt.subplots()\n",
    "point_df.groupby(['classifier']).mean().plot.bar(ax=ax)\n",
    "ax.set_title('point predictor')"
   ]
  },
  {
   "cell_type": "code",
   "execution_count": 13,
   "metadata": {},
   "outputs": [
    {
     "data": {
      "text/plain": [
       "Text(0.5, 1.0, 'price predictor')"
      ]
     },
     "execution_count": 13,
     "metadata": {},
     "output_type": "execute_result"
    },
    {
     "data": {
      "image/png": "[encoded data removed]",
      "text/plain": [
       "<Figure size 432x288 with 1 Axes>"
      ]
     },
     "metadata": {
      "needs_background": "light"
     },
     "output_type": "display_data"
    }
   ],
   "source": [
    "fig,ax = plt.subplots()\n",
    "price_df.groupby(['classifier']).mean().plot.bar(ax=ax)\n",
    "ax.set_title('price predictor')"
   ]
  },
  {
   "cell_type": "code",
   "execution_count": 20,
   "metadata": {},
   "outputs": [
    {
     "data": {
      "text/plain": [
       "array([[0.48864475, 0.01001792],\n",
       "       [0.37232235, 0.00499718],\n",
       "       [0.30094522, 0.00749345],\n",
       "       [0.41734082, 0.00713981],\n",
       "       [0.42000964, 0.00739289],\n",
       "       [0.33142668, 0.00713353],\n",
       "       [0.32321715, 0.00684151],\n",
       "       [0.2710091 , 0.00886011],\n",
       "       [0.42425302, 0.0060446 ],\n",
       "       [0.478989  , 0.00701914]], dtype=float32)"
      ]
     },
     "execution_count": 20,
     "metadata": {},
     "output_type": "execute_result"
    }
   ],
   "source": [
    "# sanity check for keras model\n",
    "y_pred= model.predict(X_val[20:30])\n",
    "y_pred"
   ]
  },
  {
   "cell_type": "markdown",
   "metadata": {},
   "source": [
    "# prediction against ground truth for neural network model"
   ]
  },
  {
   "cell_type": "code",
   "execution_count": 73,
   "metadata": {},
   "outputs": [
    {
     "data": {
      "text/plain": [
       "[]"
      ]
     },
     "execution_count": 73,
     "metadata": {},
     "output_type": "execute_result"
    },
    {
     "data": {
      "image/png": "[encoded data removed]",
      "text/plain": [
       "<Figure size 432x288 with 2 Axes>"
      ]
     },
     "metadata": {
      "needs_background": "light"
     },
     "output_type": "display_data"
    }
   ],
   "source": [
    "# prediction of \n",
    "import seaborn as sb\n",
    "import matplotlib.patches as mpatches\n",
    "%matplotlib inline\n",
    "prediction_range = (20,100)\n",
    "y_pred= model.predict(X_val[prediction_range[0]:prediction_range[1]])\n",
    "df= pd.DataFrame({'prediction_price':y_pred[:,1],\n",
    "                  'prediction_point':y_pred[:,0],\n",
    "                  'ground_truth_price':Y_val[prediction_range[0]:prediction_range[1],1],\n",
    "                  'ground_truth_point':Y_val[prediction_range[0]:prediction_range[1],0],\n",
    "                  'item':range(y_pred.shape[0])})\n",
    "\n",
    "fig, (ax,ax2) = plt.subplots(2)\n",
    "line1=sb.pointplot(x='item', y='prediction_price', data=df, ax=ax, color='b',label='prediction')\n",
    "line2=sb.pointplot(x='item', y='ground_truth_price', data=df, ax=ax, color='r',label='ground_truth')\n",
    "line3=sb.pointplot(x='item', y='prediction_point', data=df, ax=ax2, color='b',label='prediction')\n",
    "line4=sb.pointplot(x='item', y='ground_truth_point', data=df, ax=ax2, color='r',label='ground_truth')\n",
    "# labels = ax.get_xticklabels() \n",
    "ax.set_xticklabels('', rotation=-30)\n",
    "# line1.set_label('prediction')\n",
    "colors=['b','r']\n",
    "answers=['prediction','ground_truth']\n",
    "pat = [mpatches.Patch(color=col, label=lab) for col, lab in zip(colors, answers)]\n",
    "ax.legend(handles=pat, bbox_to_anchor = (0.2,0.7))\n",
    "# plt.legend(labels=['prediction','ground_truth','dsfs','sdfsf'])\n",
    "ax2.set_xticklabels('', rotation=-30)\n",
    "# sb.plt.show()"
   ]
  },
  {
   "cell_type": "code",
   "execution_count": 79,
   "metadata": {},
   "outputs": [
    {
     "name": "stdout",
     "output_type": "stream",
     "text": [
      "ycol is: ['points', 'price']\n",
      "mean squared error is: [4317400221377447.0, 3714676496054658.5]\n",
      "mean absolute error is: [878839.840054, 815193.200496]\n",
      "median_absolute_error is: [0.084036, 0.002775]\n"
     ]
    }
   ],
   "source": [
    "from sklearn.linear_model import LinearRegression\n",
    "from sklearn.metrics import mean_squared_error\n",
    "#linear regression\n",
    "lr = LinearRegression()   # instantiate\n",
    "lr.fit(X_train, Y_train)                         # fit\n",
    "y_pred = lr.predict(X_val)\n",
    "evaluate(y_pred,Y_val,y_col)"
   ]
  },
  {
   "cell_type": "markdown",
   "metadata": {},
   "source": [
    "# Parameter tuning for neural network model"
   ]
  },
  {
   "cell_type": "code",
   "execution_count": 92,
   "metadata": {},
   "outputs": [],
   "source": [
    "result_nn_test='''n=1\n",
    "mean squared error is: [0.015761, 0.000144]\n",
    "mean absolute error is: [0.099481, 0.005806]\n",
    "median_absolute_error is: [0.083797, 0.003562]\n",
    "n=2\n",
    "mean squared error is: [0.017137, 0.000125]\n",
    "mean absolute error is: [0.104829, 0.005159]\n",
    "median_absolute_error is: [0.089069, 0.003031]\n",
    "n=3\n",
    "mean squared error is: [0.017247, 0.000132]\n",
    "mean absolute error is: [0.105424, 0.005194]\n",
    "median_absolute_error is: [0.090544, 0.002942]\n",
    "n=4\n",
    "mean squared error is: [0.0171, 0.000136]\n",
    "mean absolute error is: [0.104554, 0.005303]\n",
    "median_absolute_error is: [0.089746, 0.002787]\n",
    "n=5\n",
    "mean squared error is: [0.016843, 0.000123]\n",
    "mean absolute error is: [0.103504, 0.00507]\n",
    "median_absolute_error is: [0.088795, 0.002922]\n",
    "n=6\n",
    "mean squared error is: [0.017945, 0.000138]\n",
    "mean absolute error is: [0.108091, 0.006828]\n",
    "median_absolute_error is: [0.091634, 0.005247]\n",
    "n=7\n",
    "mean squared error is: [0.018248, 0.000137]\n",
    "mean absolute error is: [0.109084, 0.006664]\n",
    "median_absolute_error is: [0.091868, 0.005275]\n",
    "n=8\n",
    "mean squared error is: [0.023176, 0.000146]\n",
    "mean absolute error is: [0.124428, 0.006461]\n",
    "median_absolute_error is: [0.110542, 0.004709]\n",
    "n=9\n",
    "mean squared error is: [0.023492, 0.000142]\n",
    "mean absolute error is: [0.125361, 0.006391]\n",
    "median_absolute_error is: [0.120772, 0.0049]\n",
    "n=10\n",
    "mean squared error is: [0.023501, 0.000142]\n",
    "mean absolute error is: [0.125399, 0.006542]\n",
    "median_absolute_error is: [0.119903, 0.005285]'''\n"
   ]
  },
  {
   "cell_type": "code",
   "execution_count": 192,
   "metadata": {},
   "outputs": [
    {
     "data": {
      "text/plain": [
       "{'n': [1, 2, 3, 4, 5, 6, 7, 8, 9, 10],\n",
       " 'mae_price': [0.005806,\n",
       "  0.005159,\n",
       "  0.005194,\n",
       "  0.005303,\n",
       "  0.00507,\n",
       "  0.006828,\n",
       "  0.006664,\n",
       "  0.006461,\n",
       "  0.006391,\n",
       "  0.006542],\n",
       " 'mae_point': [0.099481,\n",
       "  0.104829,\n",
       "  0.105424,\n",
       "  0.104554,\n",
       "  0.103504,\n",
       "  0.108091,\n",
       "  0.109084,\n",
       "  0.124428,\n",
       "  0.125361,\n",
       "  0.125399]}"
      ]
     },
     "execution_count": 192,
     "metadata": {},
     "output_type": "execute_result"
    }
   ],
   "source": [
    "import re\n",
    "import ast\n",
    "result_dict_nn={'n':[],'mae_price':[],'mae_point':[]}\n",
    "for line in result_nn_test.split('\\n'):\n",
    "    if 'n='in line:\n",
    "        match = re.findall(r'1?[0-9]$',line)\n",
    "        result_dict_nn['n'].append(int(match[0]))\n",
    "    if 'mean absolute error is:' in line:\n",
    "        match = re.findall(r'\\[.*\\]',line)\n",
    "        if match:\n",
    "            mae = ast.literal_eval(match[0])\n",
    "            result_dict_nn['mae_point'].append(mae[0])\n",
    "            result_dict_nn['mae_price'].append(mae[1])\n",
    "            \n",
    "result_dict_nn"
   ]
  },
  {
   "cell_type": "code",
   "execution_count": 212,
   "metadata": {},
   "outputs": [
    {
     "data": {
      "text/plain": [
       "Text(0.5, 1.0, 'number of hidden layers against mean absolute error')"
      ]
     },
     "execution_count": 212,
     "metadata": {},
     "output_type": "execute_result"
    },
    {
     "data": {
      "image/png": "[encoded data removed]",
      "text/plain": [
       "<Figure size 432x288 with 2 Axes>"
      ]
     },
     "metadata": {
      "needs_background": "light"
     },
     "output_type": "display_data"
    }
   ],
   "source": [
    "fig,ax = plt.subplots()\n",
    "ax1=ax.twinx()\n",
    "df=pd.DataFrame(result_dict_nn)\n",
    "df.plot('n','mae_price',ax=ax)\n",
    "df.plot('n','mae_point',color='red',ax=ax1)\n",
    "ax.legend(loc=9)\n",
    "ax.set_title('number of hidden layers against mean absolute error')"
   ]
  },
  {
   "cell_type": "raw",
   "metadata": {},
   "source": []
  }
 ],
 "metadata": {
  "kernelspec": {
   "display_name": "Python 3",
   "language": "python",
   "name": "python3"
  },
  "language_info": {
   "codemirror_mode": {
    "name": "ipython",
    "version": 3
   },
   "file_extension": ".py",
   "mimetype": "text/x-python",
   "name": "python",
   "nbconvert_exporter": "python",
   "pygments_lexer": "ipython3",
   "version": "3.6.8"
  }
 },
 "nbformat": 4,
 "nbformat_minor": 2
}
