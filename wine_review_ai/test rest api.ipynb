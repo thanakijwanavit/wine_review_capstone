{
 "cells": [
  {
   "cell_type": "code",
   "execution_count": 17,
   "metadata": {},
   "outputs": [
    {
     "name": "stdout",
     "output_type": "stream",
     "text": [
      "1 delectus aut autem\n"
     ]
    }
   ],
   "source": [
    "import requests\n",
    "import time\n",
    "\n",
    "response=requests.get('https://jsonplaceholder.typicode.com/todos/1')\n",
    "\n",
    "response.json()\n",
    "\n",
    "print(response.json()['userId'],response.json()['title'])"
   ]
  },
  {
   "cell_type": "code",
   "execution_count": 18,
   "metadata": {},
   "outputs": [
    {
     "data": {
      "text/plain": [
       "{'userId': 1, 'id': 1, 'title': 'delectus aut autem', 'completed': False}"
      ]
     },
     "execution_count": 18,
     "metadata": {},
     "output_type": "execute_result"
    }
   ],
   "source": [
    "response.json()"
   ]
  },
  {
   "cell_type": "code",
   "execution_count": 19,
   "metadata": {},
   "outputs": [
    {
     "name": "stdout",
     "output_type": "stream",
     "text": [
      "1 delectus aut autem\n",
      "1 delectus aut autem\n",
      "1 delectus aut autem\n",
      "1 delectus aut autem\n",
      "1 delectus aut autem\n",
      "1 delectus aut autem\n",
      "1 delectus aut autem\n",
      "1 delectus aut autem\n",
      "1 delectus aut autem\n",
      "1 delectus aut autem\n",
      "1 delectus aut autem\n",
      "1 delectus aut autem\n",
      "1 delectus aut autem\n",
      "1 delectus aut autem\n",
      "1 delectus aut autem\n",
      "1 delectus aut autem\n",
      "1 delectus aut autem\n",
      "1 delectus aut autem\n",
      "1 delectus aut autem\n",
      "1 delectus aut autem\n"
     ]
    }
   ],
   "source": [
    "for i in range(20):\n",
    "    response=requests.get('https://jsonplaceholder.typicode.com/todos/1')\n",
    "    response.json()\n",
    "    print(response.json()['userId'],response.json()['title'])\n",
    "    time.sleep(1)"
   ]
  },
  {
   "cell_type": "code",
   "execution_count": null,
   "metadata": {},
   "outputs": [],
   "source": []
  }
 ],
 "metadata": {
  "kernelspec": {
   "display_name": "Python 3",
   "language": "python",
   "name": "python3"
  },
  "language_info": {
   "codemirror_mode": {
    "name": "ipython",
    "version": 3
   },
   "file_extension": ".py",
   "mimetype": "text/x-python",
   "name": "python",
   "nbconvert_exporter": "python",
   "pygments_lexer": "ipython3",
   "version": "3.6.8"
  }
 },
 "nbformat": 4,
 "nbformat_minor": 2
}
